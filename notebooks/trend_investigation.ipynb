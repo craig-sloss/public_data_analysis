{
 "cells": [
  {
   "cell_type": "markdown",
   "id": "334572cc-c08e-4254-8d06-e39e4fa01a9e",
   "metadata": {},
   "source": [
    "# Trends in Reported Crime data\n",
    "\n",
    "This notebook investigates whether there is evidence of consistent trends in the reported crime data.\n",
    "\n",
    "## Set up BigQuery"
   ]
  },
  {
   "cell_type": "code",
   "execution_count": 1,
   "id": "03598807-f76d-457e-94cd-51a7043313c9",
   "metadata": {},
   "outputs": [
    {
     "data": {
      "text/plain": [
       "[SchemaField('REF_DATE', 'INTEGER', 'NULLABLE', None, (), None),\n",
       " SchemaField('GEO', 'STRING', 'NULLABLE', None, (), None),\n",
       " SchemaField('Violations', 'STRING', 'NULLABLE', None, (), None),\n",
       " SchemaField('Statistics', 'STRING', 'NULLABLE', None, (), None),\n",
       " SchemaField('VALUE', 'FLOAT', 'NULLABLE', None, (), None)]"
      ]
     },
     "execution_count": 1,
     "metadata": {},
     "output_type": "execute_result"
    }
   ],
   "source": [
    "import pandas as pd\n",
    "from google.cloud import bigquery\n",
    "client = bigquery.Client()\n",
    "dataset_ref = client.dataset(\"reported_crime_data\", project = \"newsletter-analysis\")\n",
    "table_ref = dataset_ref.table(\"all_locations_and_violations\")\n",
    "table = client.get_table(table_ref)\n",
    "table.schema"
   ]
  },
  {
   "cell_type": "markdown",
   "id": "b3416724-0189-401c-b3a8-e2aca452f054",
   "metadata": {},
   "source": [
    "Display the distinct levels of \"Statistics\" and \"Violations\" for later reference:"
   ]
  },
  {
   "cell_type": "code",
   "execution_count": 2,
   "id": "37dd4b03-ef8c-499b-a17d-b469daee0e88",
   "metadata": {},
   "outputs": [
    {
     "data": {
      "text/html": [
       "<div>\n",
       "<style scoped>\n",
       "    .dataframe tbody tr th:only-of-type {\n",
       "        vertical-align: middle;\n",
       "    }\n",
       "\n",
       "    .dataframe tbody tr th {\n",
       "        vertical-align: top;\n",
       "    }\n",
       "\n",
       "    .dataframe thead th {\n",
       "        text-align: right;\n",
       "    }\n",
       "</style>\n",
       "<table border=\"1\" class=\"dataframe\">\n",
       "  <thead>\n",
       "    <tr style=\"text-align: right;\">\n",
       "      <th></th>\n",
       "      <th>Statistics</th>\n",
       "    </tr>\n",
       "  </thead>\n",
       "  <tbody>\n",
       "    <tr>\n",
       "      <th>0</th>\n",
       "      <td>Total cleared</td>\n",
       "    </tr>\n",
       "    <tr>\n",
       "      <th>1</th>\n",
       "      <td>Actual incidents</td>\n",
       "    </tr>\n",
       "    <tr>\n",
       "      <th>2</th>\n",
       "      <td>Cleared by charge</td>\n",
       "    </tr>\n",
       "    <tr>\n",
       "      <th>3</th>\n",
       "      <td>Cleared otherwise</td>\n",
       "    </tr>\n",
       "    <tr>\n",
       "      <th>4</th>\n",
       "      <td>Percent unfounded</td>\n",
       "    </tr>\n",
       "    <tr>\n",
       "      <th>5</th>\n",
       "      <td>Unfounded incidents</td>\n",
       "    </tr>\n",
       "    <tr>\n",
       "      <th>6</th>\n",
       "      <td>Total, adult charged</td>\n",
       "    </tr>\n",
       "    <tr>\n",
       "      <th>7</th>\n",
       "      <td>Total, youth charged</td>\n",
       "    </tr>\n",
       "    <tr>\n",
       "      <th>8</th>\n",
       "      <td>Total, persons charged</td>\n",
       "    </tr>\n",
       "    <tr>\n",
       "      <th>9</th>\n",
       "      <td>Total, youth not charged</td>\n",
       "    </tr>\n",
       "    <tr>\n",
       "      <th>10</th>\n",
       "      <td>Percentage change in rate</td>\n",
       "    </tr>\n",
       "    <tr>\n",
       "      <th>11</th>\n",
       "      <td>Rate per 100,000 population</td>\n",
       "    </tr>\n",
       "    <tr>\n",
       "      <th>12</th>\n",
       "      <td>Rate, youth charged per 100,000 population age...</td>\n",
       "    </tr>\n",
       "    <tr>\n",
       "      <th>13</th>\n",
       "      <td>Rate, adult charged per 100,000 population age...</td>\n",
       "    </tr>\n",
       "    <tr>\n",
       "      <th>14</th>\n",
       "      <td>Rate, youth not charged per 100,000 population...</td>\n",
       "    </tr>\n",
       "    <tr>\n",
       "      <th>15</th>\n",
       "      <td>Rate, total persons charged per 100,000 popula...</td>\n",
       "    </tr>\n",
       "  </tbody>\n",
       "</table>\n",
       "</div>"
      ],
      "text/plain": [
       "                                           Statistics\n",
       "0                                       Total cleared\n",
       "1                                    Actual incidents\n",
       "2                                   Cleared by charge\n",
       "3                                   Cleared otherwise\n",
       "4                                   Percent unfounded\n",
       "5                                 Unfounded incidents\n",
       "6                                Total, adult charged\n",
       "7                                Total, youth charged\n",
       "8                              Total, persons charged\n",
       "9                            Total, youth not charged\n",
       "10                          Percentage change in rate\n",
       "11                        Rate per 100,000 population\n",
       "12  Rate, youth charged per 100,000 population age...\n",
       "13  Rate, adult charged per 100,000 population age...\n",
       "14  Rate, youth not charged per 100,000 population...\n",
       "15  Rate, total persons charged per 100,000 popula..."
      ]
     },
     "execution_count": 2,
     "metadata": {},
     "output_type": "execute_result"
    }
   ],
   "source": [
    "query = '''\n",
    "           SELECT DISTINCT Statistics\n",
    "           FROM `newsletter-analysis.reported_crime_data.all_locations_and_violations`\n",
    "        '''\n",
    "query_job = client.query(query)\n",
    "query_job.to_dataframe()"
   ]
  },
  {
   "cell_type": "code",
   "execution_count": 3,
   "id": "ec91e7b0-4ffe-40ef-915b-7ebb526241d7",
   "metadata": {},
   "outputs": [
    {
     "data": {
      "text/html": [
       "<div>\n",
       "<style scoped>\n",
       "    .dataframe tbody tr th:only-of-type {\n",
       "        vertical-align: middle;\n",
       "    }\n",
       "\n",
       "    .dataframe tbody tr th {\n",
       "        vertical-align: top;\n",
       "    }\n",
       "\n",
       "    .dataframe thead th {\n",
       "        text-align: right;\n",
       "    }\n",
       "</style>\n",
       "<table border=\"1\" class=\"dataframe\">\n",
       "  <thead>\n",
       "    <tr style=\"text-align: right;\">\n",
       "      <th></th>\n",
       "      <th>Violations</th>\n",
       "    </tr>\n",
       "  </thead>\n",
       "  <tbody>\n",
       "    <tr>\n",
       "      <th>0</th>\n",
       "      <td>Total, all violations [0]</td>\n",
       "    </tr>\n",
       "    <tr>\n",
       "      <th>1</th>\n",
       "      <td>Total, all Criminal Code violations (including...</td>\n",
       "    </tr>\n",
       "    <tr>\n",
       "      <th>2</th>\n",
       "      <td>Total, all Criminal Code violations (excluding...</td>\n",
       "    </tr>\n",
       "    <tr>\n",
       "      <th>3</th>\n",
       "      <td>Total violent Criminal Code violations [100]</td>\n",
       "    </tr>\n",
       "    <tr>\n",
       "      <th>4</th>\n",
       "      <td>Homicide [110]</td>\n",
       "    </tr>\n",
       "    <tr>\n",
       "      <th>...</th>\n",
       "      <td>...</td>\n",
       "    </tr>\n",
       "    <tr>\n",
       "      <th>308</th>\n",
       "      <td>Failure or refusal to comply with demand, acci...</td>\n",
       "    </tr>\n",
       "    <tr>\n",
       "      <th>309</th>\n",
       "      <td>Failure or refusal to comply with demand, acci...</td>\n",
       "    </tr>\n",
       "    <tr>\n",
       "      <th>310</th>\n",
       "      <td>Failure or refusal to comply with demand, acci...</td>\n",
       "    </tr>\n",
       "    <tr>\n",
       "      <th>311</th>\n",
       "      <td>Parent or guardian procuring sexual activity: ...</td>\n",
       "    </tr>\n",
       "    <tr>\n",
       "      <th>312</th>\n",
       "      <td>Householder permitting illegal sexual activity...</td>\n",
       "    </tr>\n",
       "  </tbody>\n",
       "</table>\n",
       "<p>313 rows × 1 columns</p>\n",
       "</div>"
      ],
      "text/plain": [
       "                                            Violations\n",
       "0                            Total, all violations [0]\n",
       "1    Total, all Criminal Code violations (including...\n",
       "2    Total, all Criminal Code violations (excluding...\n",
       "3         Total violent Criminal Code violations [100]\n",
       "4                                       Homicide [110]\n",
       "..                                                 ...\n",
       "308  Failure or refusal to comply with demand, acci...\n",
       "309  Failure or refusal to comply with demand, acci...\n",
       "310  Failure or refusal to comply with demand, acci...\n",
       "311  Parent or guardian procuring sexual activity: ...\n",
       "312  Householder permitting illegal sexual activity...\n",
       "\n",
       "[313 rows x 1 columns]"
      ]
     },
     "execution_count": 3,
     "metadata": {},
     "output_type": "execute_result"
    }
   ],
   "source": [
    "query = '''\n",
    "           SELECT DISTINCT Violations\n",
    "           FROM `newsletter-analysis.reported_crime_data.all_locations_and_violations`\n",
    "        '''\n",
    "query_job = client.query(query)\n",
    "query_job.to_dataframe()"
   ]
  },
  {
   "cell_type": "markdown",
   "id": "822496e0-4510-4a91-be25-101d2c617ac7",
   "metadata": {},
   "source": [
    "Identify the most common types of incidents recorded in the data for Waterloo Region:"
   ]
  },
  {
   "cell_type": "code",
   "execution_count": 4,
   "id": "4d3b6af2-4a96-4e48-8809-901ab256cddc",
   "metadata": {},
   "outputs": [
    {
     "data": {
      "text/html": [
       "<div>\n",
       "<style scoped>\n",
       "    .dataframe tbody tr th:only-of-type {\n",
       "        vertical-align: middle;\n",
       "    }\n",
       "\n",
       "    .dataframe tbody tr th {\n",
       "        vertical-align: top;\n",
       "    }\n",
       "\n",
       "    .dataframe thead th {\n",
       "        text-align: right;\n",
       "    }\n",
       "</style>\n",
       "<table border=\"1\" class=\"dataframe\">\n",
       "  <thead>\n",
       "    <tr style=\"text-align: right;\">\n",
       "      <th></th>\n",
       "      <th>Violations</th>\n",
       "      <th>avg_value</th>\n",
       "    </tr>\n",
       "  </thead>\n",
       "  <tbody>\n",
       "    <tr>\n",
       "      <th>0</th>\n",
       "      <td>Total, all violations [0]</td>\n",
       "      <td>29522.958333</td>\n",
       "    </tr>\n",
       "    <tr>\n",
       "      <th>1</th>\n",
       "      <td>Total, all Criminal Code violations (including...</td>\n",
       "      <td>28181.583333</td>\n",
       "    </tr>\n",
       "    <tr>\n",
       "      <th>2</th>\n",
       "      <td>Total, all Criminal Code violations (excluding...</td>\n",
       "      <td>27225.416667</td>\n",
       "    </tr>\n",
       "    <tr>\n",
       "      <th>3</th>\n",
       "      <td>Total property crime violations [200]</td>\n",
       "      <td>19139.333333</td>\n",
       "    </tr>\n",
       "    <tr>\n",
       "      <th>4</th>\n",
       "      <td>Total theft under $5,000 (non-motor vehicle) [...</td>\n",
       "      <td>8312.666667</td>\n",
       "    </tr>\n",
       "    <tr>\n",
       "      <th>5</th>\n",
       "      <td>Total violent Criminal Code violations [100]</td>\n",
       "      <td>5032.250000</td>\n",
       "    </tr>\n",
       "    <tr>\n",
       "      <th>6</th>\n",
       "      <td>Theft $5,000 or under [2140]</td>\n",
       "      <td>3820.708333</td>\n",
       "    </tr>\n",
       "    <tr>\n",
       "      <th>7</th>\n",
       "      <td>Theft $5,000 or under from a motor vehicle [2142]</td>\n",
       "      <td>3391.125000</td>\n",
       "    </tr>\n",
       "    <tr>\n",
       "      <th>8</th>\n",
       "      <td>Total mischief [250]</td>\n",
       "      <td>3350.666667</td>\n",
       "    </tr>\n",
       "    <tr>\n",
       "      <th>9</th>\n",
       "      <td>Mischief [2170]</td>\n",
       "      <td>3350.541667</td>\n",
       "    </tr>\n",
       "    <tr>\n",
       "      <th>10</th>\n",
       "      <td>Total other Criminal Code violations [300]</td>\n",
       "      <td>3053.833333</td>\n",
       "    </tr>\n",
       "    <tr>\n",
       "      <th>11</th>\n",
       "      <td>Total breaking and entering [210]</td>\n",
       "      <td>2862.541667</td>\n",
       "    </tr>\n",
       "    <tr>\n",
       "      <th>12</th>\n",
       "      <td>Breaking and entering [2120]</td>\n",
       "      <td>2860.833333</td>\n",
       "    </tr>\n",
       "    <tr>\n",
       "      <th>13</th>\n",
       "      <td>Total administration of justice violations [330]</td>\n",
       "      <td>2296.333333</td>\n",
       "    </tr>\n",
       "    <tr>\n",
       "      <th>14</th>\n",
       "      <td>Assault, level 1 [1430]</td>\n",
       "      <td>1997.875000</td>\n",
       "    </tr>\n",
       "    <tr>\n",
       "      <th>15</th>\n",
       "      <td>Fraud [2160]</td>\n",
       "      <td>1665.416667</td>\n",
       "    </tr>\n",
       "    <tr>\n",
       "      <th>16</th>\n",
       "      <td>Total Federal Statute violations [400]</td>\n",
       "      <td>1341.375000</td>\n",
       "    </tr>\n",
       "    <tr>\n",
       "      <th>17</th>\n",
       "      <td>Total theft of motor vehicle [220]</td>\n",
       "      <td>1325.250000</td>\n",
       "    </tr>\n",
       "    <tr>\n",
       "      <th>18</th>\n",
       "      <td>Fail to comply with order [3410]</td>\n",
       "      <td>1173.041667</td>\n",
       "    </tr>\n",
       "    <tr>\n",
       "      <th>19</th>\n",
       "      <td>Shoplifting $5,000 or under [2143]</td>\n",
       "      <td>1100.833333</td>\n",
       "    </tr>\n",
       "  </tbody>\n",
       "</table>\n",
       "</div>"
      ],
      "text/plain": [
       "                                           Violations     avg_value\n",
       "0                           Total, all violations [0]  29522.958333\n",
       "1   Total, all Criminal Code violations (including...  28181.583333\n",
       "2   Total, all Criminal Code violations (excluding...  27225.416667\n",
       "3               Total property crime violations [200]  19139.333333\n",
       "4   Total theft under $5,000 (non-motor vehicle) [...   8312.666667\n",
       "5        Total violent Criminal Code violations [100]   5032.250000\n",
       "6                        Theft $5,000 or under [2140]   3820.708333\n",
       "7   Theft $5,000 or under from a motor vehicle [2142]   3391.125000\n",
       "8                                Total mischief [250]   3350.666667\n",
       "9                                     Mischief [2170]   3350.541667\n",
       "10         Total other Criminal Code violations [300]   3053.833333\n",
       "11                  Total breaking and entering [210]   2862.541667\n",
       "12                       Breaking and entering [2120]   2860.833333\n",
       "13   Total administration of justice violations [330]   2296.333333\n",
       "14                            Assault, level 1 [1430]   1997.875000\n",
       "15                                       Fraud [2160]   1665.416667\n",
       "16             Total Federal Statute violations [400]   1341.375000\n",
       "17                 Total theft of motor vehicle [220]   1325.250000\n",
       "18                   Fail to comply with order [3410]   1173.041667\n",
       "19                 Shoplifting $5,000 or under [2143]   1100.833333"
      ]
     },
     "execution_count": 4,
     "metadata": {},
     "output_type": "execute_result"
    }
   ],
   "source": [
    "query = '''\n",
    "           SELECT Violations, AVG(VALUE) as avg_value\n",
    "           FROM `newsletter-analysis.reported_crime_data.all_locations_and_violations`\n",
    "           WHERE GEO = 'Kitchener-Cambridge-Waterloo, Ontario [35541]' \n",
    "                and Statistics = 'Actual incidents'\n",
    "           GROUP BY Violations\n",
    "           ORDER BY avg_value DESC\n",
    "        '''\n",
    "query_job = client.query(query)\n",
    "top_incidents = query_job.to_dataframe()\n",
    "top_incidents.head(20)"
   ]
  },
  {
   "cell_type": "markdown",
   "id": "072229a6-b2a8-4f01-893d-a4ec4bca6fda",
   "metadata": {},
   "source": [
    "## Total Violations in Waterloo Region\n",
    "\n",
    "This section looks at trends in the rate of Total Violations in Waterloo Region."
   ]
  },
  {
   "cell_type": "code",
   "execution_count": 5,
   "id": "2f9074a4-f118-4d39-9d26-d94bb939be9f",
   "metadata": {},
   "outputs": [
    {
     "data": {
      "text/html": [
       "<div>\n",
       "<style scoped>\n",
       "    .dataframe tbody tr th:only-of-type {\n",
       "        vertical-align: middle;\n",
       "    }\n",
       "\n",
       "    .dataframe tbody tr th {\n",
       "        vertical-align: top;\n",
       "    }\n",
       "\n",
       "    .dataframe thead th {\n",
       "        text-align: right;\n",
       "    }\n",
       "</style>\n",
       "<table border=\"1\" class=\"dataframe\">\n",
       "  <thead>\n",
       "    <tr style=\"text-align: right;\">\n",
       "      <th></th>\n",
       "      <th>REF_DATE</th>\n",
       "      <th>VALUE</th>\n",
       "    </tr>\n",
       "  </thead>\n",
       "  <tbody>\n",
       "    <tr>\n",
       "      <th>0</th>\n",
       "      <td>1998</td>\n",
       "      <td>7305.70</td>\n",
       "    </tr>\n",
       "    <tr>\n",
       "      <th>1</th>\n",
       "      <td>1999</td>\n",
       "      <td>6797.61</td>\n",
       "    </tr>\n",
       "    <tr>\n",
       "      <th>2</th>\n",
       "      <td>2000</td>\n",
       "      <td>6421.60</td>\n",
       "    </tr>\n",
       "    <tr>\n",
       "      <th>3</th>\n",
       "      <td>2001</td>\n",
       "      <td>6091.61</td>\n",
       "    </tr>\n",
       "    <tr>\n",
       "      <th>4</th>\n",
       "      <td>2002</td>\n",
       "      <td>6147.20</td>\n",
       "    </tr>\n",
       "  </tbody>\n",
       "</table>\n",
       "</div>"
      ],
      "text/plain": [
       "   REF_DATE    VALUE\n",
       "0      1998  7305.70\n",
       "1      1999  6797.61\n",
       "2      2000  6421.60\n",
       "3      2001  6091.61\n",
       "4      2002  6147.20"
      ]
     },
     "execution_count": 5,
     "metadata": {},
     "output_type": "execute_result"
    }
   ],
   "source": [
    "query = '''SELECT REF_DATE, VALUE\n",
    "            FROM `newsletter-analysis.reported_crime_data.all_locations_and_violations`\n",
    "            WHERE GEO = 'Kitchener-Cambridge-Waterloo, Ontario [35541]' \n",
    "                and Violations = 'Total, all violations [0]' \n",
    "                and Statistics = 'Rate per 100,000 population'\n",
    "        '''\n",
    "query_job = client.query(query)\n",
    "WR_rate_data = query_job.to_dataframe()\n",
    "WR_rate_data.head()"
   ]
  },
  {
   "cell_type": "code",
   "execution_count": 6,
   "id": "3ca1d911-a1df-4499-b284-e150ffa61d51",
   "metadata": {},
   "outputs": [
    {
     "data": {
      "text/plain": [
       "<AxesSubplot:xlabel='REF_DATE', ylabel='VALUE'>"
      ]
     },
     "execution_count": 6,
     "metadata": {},
     "output_type": "execute_result"
    },
    {
     "data": {
      "image/png": "[encoded data removed]",
      "text/plain": [
       "<Figure size 640x480 with 1 Axes>"
      ]
     },
     "metadata": {},
     "output_type": "display_data"
    }
   ],
   "source": [
    "import pandas as pd\n",
    "pd.plotting.register_matplotlib_converters()\n",
    "import matplotlib.pyplot as plt\n",
    "%matplotlib inline\n",
    "import seaborn as sns\n",
    "sns.lineplot(data = WR_rate_data, x = 'REF_DATE', y = 'VALUE')"
   ]
  },
  {
   "cell_type": "markdown",
   "id": "1f724d76-0a05-433d-accc-d709970d205c",
   "metadata": {},
   "source": [
    "Extract data on percentage changes in rate for comparison."
   ]
  },
  {
   "cell_type": "code",
   "execution_count": 7,
   "id": "a0d3ceb0-91ce-4248-86b1-07bff3e94c42",
   "metadata": {},
   "outputs": [
    {
     "data": {
      "text/html": [
       "<div>\n",
       "<style scoped>\n",
       "    .dataframe tbody tr th:only-of-type {\n",
       "        vertical-align: middle;\n",
       "    }\n",
       "\n",
       "    .dataframe tbody tr th {\n",
       "        vertical-align: top;\n",
       "    }\n",
       "\n",
       "    .dataframe thead th {\n",
       "        text-align: right;\n",
       "    }\n",
       "</style>\n",
       "<table border=\"1\" class=\"dataframe\">\n",
       "  <thead>\n",
       "    <tr style=\"text-align: right;\">\n",
       "      <th></th>\n",
       "      <th>REF_DATE</th>\n",
       "      <th>VALUE</th>\n",
       "    </tr>\n",
       "  </thead>\n",
       "  <tbody>\n",
       "    <tr>\n",
       "      <th>0</th>\n",
       "      <td>1999</td>\n",
       "      <td>-6.95</td>\n",
       "    </tr>\n",
       "    <tr>\n",
       "      <th>1</th>\n",
       "      <td>2000</td>\n",
       "      <td>-5.53</td>\n",
       "    </tr>\n",
       "    <tr>\n",
       "      <th>2</th>\n",
       "      <td>2001</td>\n",
       "      <td>-5.14</td>\n",
       "    </tr>\n",
       "    <tr>\n",
       "      <th>3</th>\n",
       "      <td>2002</td>\n",
       "      <td>0.91</td>\n",
       "    </tr>\n",
       "    <tr>\n",
       "      <th>4</th>\n",
       "      <td>2003</td>\n",
       "      <td>-3.59</td>\n",
       "    </tr>\n",
       "  </tbody>\n",
       "</table>\n",
       "</div>"
      ],
      "text/plain": [
       "   REF_DATE  VALUE\n",
       "0      1999  -6.95\n",
       "1      2000  -5.53\n",
       "2      2001  -5.14\n",
       "3      2002   0.91\n",
       "4      2003  -3.59"
      ]
     },
     "execution_count": 7,
     "metadata": {},
     "output_type": "execute_result"
    }
   ],
   "source": [
    "query = '''SELECT REF_DATE, VALUE\n",
    "            FROM `newsletter-analysis.reported_crime_data.all_locations_and_violations`\n",
    "            WHERE GEO = 'Kitchener-Cambridge-Waterloo, Ontario [35541]' \n",
    "                and Violations = 'Total, all violations [0]' \n",
    "                and Statistics = 'Percentage change in rate'\n",
    "        '''\n",
    "query_job = client.query(query)\n",
    "WR_change_data = query_job.to_dataframe()\n",
    "WR_change_data.head()"
   ]
  },
  {
   "cell_type": "code",
   "execution_count": 8,
   "id": "59446359-f0f1-46a0-b063-78c18ab10a70",
   "metadata": {},
   "outputs": [
    {
     "data": {
      "text/plain": [
       "-0.8704347826086958"
      ]
     },
     "execution_count": 8,
     "metadata": {},
     "output_type": "execute_result"
    }
   ],
   "source": [
    "mean_change = WR_change_data['VALUE'].mean()\n",
    "mean_change"
   ]
  },
  {
   "cell_type": "code",
   "execution_count": 9,
   "id": "8308c6c3-35ac-4250-badf-98bb5c74d663",
   "metadata": {},
   "outputs": [
    {
     "data": {
      "text/plain": [
       "5.046221339019083"
      ]
     },
     "execution_count": 9,
     "metadata": {},
     "output_type": "execute_result"
    }
   ],
   "source": [
    "std_change = WR_change_data['VALUE'].std()\n",
    "std_change"
   ]
  },
  {
   "cell_type": "code",
   "execution_count": 10,
   "id": "356d23d9-65e7-4ca5-a7ab-33f727e1d1e0",
   "metadata": {},
   "outputs": [
    {
     "data": {
      "image/png": "[encoded data removed]",
      "text/plain": [
       "<Figure size 640x480 with 1 Axes>"
      ]
     },
     "metadata": {},
     "output_type": "display_data"
    }
   ],
   "source": [
    "sns.lineplot(data = WR_change_data, x = 'REF_DATE', y = 'VALUE')\n",
    "import matplotlib.pyplot as plt \n",
    "import numpy as np    \n",
    "\n",
    "def abline(slope, intercept):\n",
    "    \"\"\"Plot a line from slope and intercept\"\"\"\n",
    "    axes = plt.gca()\n",
    "    x_vals = np.array(axes.get_xlim())\n",
    "    y_vals = intercept + slope * x_vals\n",
    "    plt.plot(x_vals, y_vals, '--')\n",
    "abline(slope = 0, intercept = 0)\n",
    "abline(slope = 0, intercept = mean_change + 2 * std_change)\n",
    "abline(slope = 0, intercept = mean_change - 2 * std_change)"
   ]
  },
  {
   "cell_type": "markdown",
   "id": "6ef9019a-d271-4f56-9e5d-9bd911891349",
   "metadata": {},
   "source": [
    "# Impact of data cutoff point\n",
    "\n",
    "This section contains some preliminary investigation into the impact that the selection of a cutoff point has on the results."
   ]
  },
  {
   "cell_type": "code",
   "execution_count": 27,
   "id": "12c8d66e-25db-4fa9-9cff-ecd3c1231200",
   "metadata": {},
   "outputs": [
    {
     "data": {
      "text/plain": [
       "{'slope': -56.94535652173855,\n",
       " 'lower_ci': -82.73252238266984,\n",
       " 'upper_ci': -31.158190660807268}"
      ]
     },
     "execution_count": 27,
     "metadata": {},
     "output_type": "execute_result"
    }
   ],
   "source": [
    "import statsmodels.api as sm\n",
    "def regression_result(cutoff_point, data):\n",
    "    recent_data = data.loc[data.REF_DATE >= cutoff_point]\n",
    "    X = sm.add_constant(recent_data['REF_DATE'])\n",
    "    Y = recent_data['VALUE']\n",
    "    ols = sm.OLS(Y, X)\n",
    "    ols_result = ols.fit()\n",
    "    return {'slope' : ols_result.params['REF_DATE'],\n",
    "            'lower_ci' : ols_result.conf_int().iloc[1,0],\n",
    "            'upper_ci' : ols_result.conf_int().iloc[1,1]}\n",
    "regression_result(1998, WR_rate_data)"
   ]
  },
  {
   "cell_type": "code",
   "execution_count": 30,
   "id": "f604246e-e83c-497b-a26a-db0b7ceaf164",
   "metadata": {},
   "outputs": [
    {
     "data": {
      "text/plain": [
       "{1998: {'slope': -56.94535652173855,\n",
       "  'lower_ci': -82.73252238266984,\n",
       "  'upper_ci': -31.158190660807268},\n",
       " 1999: {'slope': -46.303201581027565,\n",
       "  'lower_ci': -70.83199148829664,\n",
       "  'upper_ci': -21.77441167375849},\n",
       " 2000: {'slope': -38.47945228684344,\n",
       "  'lower_ci': -63.3766762997236,\n",
       "  'upper_ci': -13.582228273963281},\n",
       " 2001: {'slope': -33.018675324674774,\n",
       "  'lower_ci': -59.528057083925304,\n",
       "  'upper_ci': -6.509293565424247},\n",
       " 2002: {'slope': -30.436240601503705,\n",
       "  'lower_ci': -59.64951447698241,\n",
       "  'upper_ci': -1.2229667260249997},\n",
       " 2003: {'slope': -25.43845614035115,\n",
       "  'lower_ci': -57.334872892382094,\n",
       "  'upper_ci': 6.457960611679795},\n",
       " 2004: {'slope': -22.409958720330337,\n",
       "  'lower_ci': -58.00132215455809,\n",
       "  'upper_ci': 13.181404713897415},\n",
       " 2005: {'slope': -17.563308823529738,\n",
       "  'lower_ci': -57.27487787712571,\n",
       "  'upper_ci': 22.148260230066235},\n",
       " 2006: {'slope': -16.04874999999656,\n",
       "  'lower_ci': -61.30926378371873,\n",
       "  'upper_ci': 29.21176378372561},\n",
       " 2007: {'slope': -2.621571428571656,\n",
       "  'lower_ci': -51.109794607023275,\n",
       "  'upper_ci': 45.86665174987996},\n",
       " 2008: {'slope': 3.271956043956777,\n",
       "  'lower_ci': -52.54275566209797,\n",
       "  'upper_ci': 59.08666775001152},\n",
       " 2009: {'slope': 14.3207692307778,\n",
       "  'lower_ci': -49.44602339649828,\n",
       "  'upper_ci': 78.08756185805389},\n",
       " 2010: {'slope': 47.66293706294394,\n",
       "  'lower_ci': -9.419553150907682,\n",
       "  'upper_ci': 104.74542727679557},\n",
       " 2011: {'slope': 75.7127272727322,\n",
       "  'lower_ci': 21.74214156449328,\n",
       "  'upper_ci': 129.6833129809711},\n",
       " 2012: {'slope': 99.69084848483226,\n",
       "  'lower_ci': 44.81316465239701,\n",
       "  'upper_ci': 154.5685323172675},\n",
       " 2013: {'slope': 121.54733333333351,\n",
       "  'lower_ci': 61.73944852587337,\n",
       "  'upper_ci': 181.35521814079365},\n",
       " 2014: {'slope': 126.218214285709,\n",
       "  'lower_ci': 46.7750861708077,\n",
       "  'upper_ci': 205.6613424006103},\n",
       " 2015: {'slope': 103.24035714285856,\n",
       "  'lower_ci': 1.0434643148283413,\n",
       "  'upper_ci': 205.4372499708888},\n",
       " 2016: {'slope': 85.17142857142812,\n",
       "  'lower_ci': -65.46123950127054,\n",
       "  'upper_ci': 235.8040966441268},\n",
       " 2017: {'slope': 14.90100000000343,\n",
       "  'lower_ci': -160.2055872848544,\n",
       "  'upper_ci': 190.00758728486124},\n",
       " 2018: {'slope': -10.11100000002125,\n",
       "  'lower_ci': -405.7883244214334,\n",
       "  'upper_ci': 385.5663244213909},\n",
       " 2019: {'slope': 130.77000000000137,\n",
       "  'lower_ci': -1088.314967873456,\n",
       "  'upper_ci': 1349.8549678734587},\n",
       " 2020: {'slope': 296.9500000000045, 'lower_ci': nan, 'upper_ci': nan}}"
      ]
     },
     "execution_count": 30,
     "metadata": {},
     "output_type": "execute_result"
    }
   ],
   "source": [
    "slope_by_cutoff_point = {year : regression_result(year, WR_rate_data) for year in range(1998, 2021)}\n",
    "slope_by_cutoff_point"
   ]
  }
 ],
 "metadata": {
  "environment": {
   "kernel": "python3",
   "name": "common-cpu.m100",
   "type": "gcloud",
   "uri": "gcr.io/deeplearning-platform-release/base-cpu:m100"
  },
  "kernelspec": {
   "display_name": "Python 3",
   "language": "python",
   "name": "python3"
  },
  "language_info": {
   "codemirror_mode": {
    "name": "ipython",
    "version": 3
   },
   "file_extension": ".py",
   "mimetype": "text/x-python",
   "name": "python",
   "nbconvert_exporter": "python",
   "pygments_lexer": "ipython3",
   "version": "3.7.12"
  }
 },
 "nbformat": 4,
 "nbformat_minor": 5
}
