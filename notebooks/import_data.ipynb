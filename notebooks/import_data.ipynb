{
 "cells": [
  {
   "cell_type": "markdown",
   "id": "1eed09a7-4891-4d8e-a69d-99a80d77c451",
   "metadata": {},
   "source": [
    "# Import data\n",
    "\n",
    "This notebook imports the CSV from Statistics Canada, discards columns not relevant to the analysis, and uploads the resulting table to BigQuery."
   ]
  },
  {
   "cell_type": "code",
   "execution_count": 1,
   "id": "90165f5d-862d-445f-a35e-69af41b49b30",
   "metadata": {},
   "outputs": [
    {
     "name": "stderr",
     "output_type": "stream",
     "text": [
      "/opt/conda/lib/python3.7/site-packages/IPython/core/interactiveshell.py:3552: DtypeWarning: Columns (2,14) have mixed types.Specify dtype option on import or set low_memory=False.\n",
      "  exec(code_obj, self.user_global_ns, self.user_ns)\n"
     ]
    }
   ],
   "source": [
    "import pandas as pd\n",
    "reported_crime_data = pd.read_csv(\"../data/35100177.csv\")"
   ]
  },
  {
   "cell_type": "code",
   "execution_count": 2,
   "id": "187d4641-b931-4c03-8096-2f5efdf5b872",
   "metadata": {},
   "outputs": [
    {
     "data": {
      "text/html": [
       "<div>\n",
       "<style scoped>\n",
       "    .dataframe tbody tr th:only-of-type {\n",
       "        vertical-align: middle;\n",
       "    }\n",
       "\n",
       "    .dataframe tbody tr th {\n",
       "        vertical-align: top;\n",
       "    }\n",
       "\n",
       "    .dataframe thead th {\n",
       "        text-align: right;\n",
       "    }\n",
       "</style>\n",
       "<table border=\"1\" class=\"dataframe\">\n",
       "  <thead>\n",
       "    <tr style=\"text-align: right;\">\n",
       "      <th></th>\n",
       "      <th>REF_DATE</th>\n",
       "      <th>GEO</th>\n",
       "      <th>DGUID</th>\n",
       "      <th>Violations</th>\n",
       "      <th>Statistics</th>\n",
       "      <th>UOM</th>\n",
       "      <th>UOM_ID</th>\n",
       "      <th>SCALAR_FACTOR</th>\n",
       "      <th>SCALAR_ID</th>\n",
       "      <th>VECTOR</th>\n",
       "      <th>COORDINATE</th>\n",
       "      <th>VALUE</th>\n",
       "      <th>STATUS</th>\n",
       "      <th>SYMBOL</th>\n",
       "      <th>TERMINATED</th>\n",
       "      <th>DECIMALS</th>\n",
       "    </tr>\n",
       "  </thead>\n",
       "  <tbody>\n",
       "    <tr>\n",
       "      <th>0</th>\n",
       "      <td>1998</td>\n",
       "      <td>Canada</td>\n",
       "      <td>2016A000011124</td>\n",
       "      <td>Total, all violations [0]</td>\n",
       "      <td>Actual incidents</td>\n",
       "      <td>Number</td>\n",
       "      <td>223</td>\n",
       "      <td>units</td>\n",
       "      <td>0</td>\n",
       "      <td>v44348247</td>\n",
       "      <td>1.1.1</td>\n",
       "      <td>2688540.00</td>\n",
       "      <td>NaN</td>\n",
       "      <td>NaN</td>\n",
       "      <td>NaN</td>\n",
       "      <td>0</td>\n",
       "    </tr>\n",
       "    <tr>\n",
       "      <th>1</th>\n",
       "      <td>1998</td>\n",
       "      <td>Canada</td>\n",
       "      <td>2016A000011124</td>\n",
       "      <td>Total, all violations [0]</td>\n",
       "      <td>Rate per 100,000 population</td>\n",
       "      <td>Rate</td>\n",
       "      <td>257</td>\n",
       "      <td>units</td>\n",
       "      <td>0</td>\n",
       "      <td>v44396346</td>\n",
       "      <td>1.1.2</td>\n",
       "      <td>8915.12</td>\n",
       "      <td>NaN</td>\n",
       "      <td>NaN</td>\n",
       "      <td>NaN</td>\n",
       "      <td>2</td>\n",
       "    </tr>\n",
       "    <tr>\n",
       "      <th>2</th>\n",
       "      <td>1998</td>\n",
       "      <td>Canada</td>\n",
       "      <td>2016A000011124</td>\n",
       "      <td>Total, all violations [0]</td>\n",
       "      <td>Percentage change in rate</td>\n",
       "      <td>Percent</td>\n",
       "      <td>239</td>\n",
       "      <td>units</td>\n",
       "      <td>0</td>\n",
       "      <td>v44391402</td>\n",
       "      <td>1.1.3</td>\n",
       "      <td>NaN</td>\n",
       "      <td>..</td>\n",
       "      <td>NaN</td>\n",
       "      <td>NaN</td>\n",
       "      <td>2</td>\n",
       "    </tr>\n",
       "    <tr>\n",
       "      <th>3</th>\n",
       "      <td>1998</td>\n",
       "      <td>Canada</td>\n",
       "      <td>2016A000011124</td>\n",
       "      <td>Total, all violations [0]</td>\n",
       "      <td>Total cleared</td>\n",
       "      <td>Number</td>\n",
       "      <td>223</td>\n",
       "      <td>units</td>\n",
       "      <td>0</td>\n",
       "      <td>v44327422</td>\n",
       "      <td>1.1.4</td>\n",
       "      <td>1073453.00</td>\n",
       "      <td>NaN</td>\n",
       "      <td>NaN</td>\n",
       "      <td>NaN</td>\n",
       "      <td>0</td>\n",
       "    </tr>\n",
       "    <tr>\n",
       "      <th>4</th>\n",
       "      <td>1998</td>\n",
       "      <td>Canada</td>\n",
       "      <td>2016A000011124</td>\n",
       "      <td>Total, all violations [0]</td>\n",
       "      <td>Cleared by charge</td>\n",
       "      <td>Number</td>\n",
       "      <td>223</td>\n",
       "      <td>units</td>\n",
       "      <td>0</td>\n",
       "      <td>v44327628</td>\n",
       "      <td>1.1.5</td>\n",
       "      <td>705133.00</td>\n",
       "      <td>NaN</td>\n",
       "      <td>NaN</td>\n",
       "      <td>NaN</td>\n",
       "      <td>0</td>\n",
       "    </tr>\n",
       "  </tbody>\n",
       "</table>\n",
       "</div>"
      ],
      "text/plain": [
       "   REF_DATE     GEO           DGUID                 Violations  \\\n",
       "0      1998  Canada  2016A000011124  Total, all violations [0]   \n",
       "1      1998  Canada  2016A000011124  Total, all violations [0]   \n",
       "2      1998  Canada  2016A000011124  Total, all violations [0]   \n",
       "3      1998  Canada  2016A000011124  Total, all violations [0]   \n",
       "4      1998  Canada  2016A000011124  Total, all violations [0]   \n",
       "\n",
       "                    Statistics      UOM  UOM_ID SCALAR_FACTOR  SCALAR_ID  \\\n",
       "0             Actual incidents   Number     223         units          0   \n",
       "1  Rate per 100,000 population     Rate     257         units          0   \n",
       "2    Percentage change in rate  Percent     239         units          0   \n",
       "3                Total cleared   Number     223         units          0   \n",
       "4            Cleared by charge   Number     223         units          0   \n",
       "\n",
       "      VECTOR COORDINATE       VALUE STATUS  SYMBOL TERMINATED  DECIMALS  \n",
       "0  v44348247      1.1.1  2688540.00    NaN     NaN        NaN         0  \n",
       "1  v44396346      1.1.2     8915.12    NaN     NaN        NaN         2  \n",
       "2  v44391402      1.1.3         NaN     ..     NaN        NaN         2  \n",
       "3  v44327422      1.1.4  1073453.00    NaN     NaN        NaN         0  \n",
       "4  v44327628      1.1.5   705133.00    NaN     NaN        NaN         0  "
      ]
     },
     "execution_count": 2,
     "metadata": {},
     "output_type": "execute_result"
    }
   ],
   "source": [
    "reported_crime_data.head()"
   ]
  },
  {
   "cell_type": "code",
   "execution_count": 3,
   "id": "9c1e7bbe-0cea-4af0-89db-e3d79125bc02",
   "metadata": {},
   "outputs": [
    {
     "data": {
      "text/plain": [
       "REF_DATE           int64\n",
       "GEO               object\n",
       "DGUID             object\n",
       "Violations        object\n",
       "Statistics        object\n",
       "UOM               object\n",
       "UOM_ID             int64\n",
       "SCALAR_FACTOR     object\n",
       "SCALAR_ID          int64\n",
       "VECTOR            object\n",
       "COORDINATE        object\n",
       "VALUE            float64\n",
       "STATUS            object\n",
       "SYMBOL           float64\n",
       "TERMINATED        object\n",
       "DECIMALS           int64\n",
       "dtype: object"
      ]
     },
     "execution_count": 3,
     "metadata": {},
     "output_type": "execute_result"
    }
   ],
   "source": [
    "reported_crime_data.dtypes"
   ]
  },
  {
   "cell_type": "code",
   "execution_count": 10,
   "id": "7ace621b-681c-4fe2-8482-35b5880e3ca6",
   "metadata": {},
   "outputs": [
    {
     "data": {
      "text/html": [
       "<div>\n",
       "<style scoped>\n",
       "    .dataframe tbody tr th:only-of-type {\n",
       "        vertical-align: middle;\n",
       "    }\n",
       "\n",
       "    .dataframe tbody tr th {\n",
       "        vertical-align: top;\n",
       "    }\n",
       "\n",
       "    .dataframe thead th {\n",
       "        text-align: right;\n",
       "    }\n",
       "</style>\n",
       "<table border=\"1\" class=\"dataframe\">\n",
       "  <thead>\n",
       "    <tr style=\"text-align: right;\">\n",
       "      <th></th>\n",
       "      <th>REF_DATE</th>\n",
       "      <th>GEO</th>\n",
       "      <th>Violations</th>\n",
       "      <th>Statistics</th>\n",
       "      <th>VALUE</th>\n",
       "    </tr>\n",
       "  </thead>\n",
       "  <tbody>\n",
       "    <tr>\n",
       "      <th>0</th>\n",
       "      <td>1998</td>\n",
       "      <td>Canada</td>\n",
       "      <td>Total, all violations [0]</td>\n",
       "      <td>Actual incidents</td>\n",
       "      <td>2688540.00</td>\n",
       "    </tr>\n",
       "    <tr>\n",
       "      <th>1</th>\n",
       "      <td>1998</td>\n",
       "      <td>Canada</td>\n",
       "      <td>Total, all violations [0]</td>\n",
       "      <td>Rate per 100,000 population</td>\n",
       "      <td>8915.12</td>\n",
       "    </tr>\n",
       "    <tr>\n",
       "      <th>2</th>\n",
       "      <td>1998</td>\n",
       "      <td>Canada</td>\n",
       "      <td>Total, all violations [0]</td>\n",
       "      <td>Percentage change in rate</td>\n",
       "      <td>NaN</td>\n",
       "    </tr>\n",
       "    <tr>\n",
       "      <th>3</th>\n",
       "      <td>1998</td>\n",
       "      <td>Canada</td>\n",
       "      <td>Total, all violations [0]</td>\n",
       "      <td>Total cleared</td>\n",
       "      <td>1073453.00</td>\n",
       "    </tr>\n",
       "    <tr>\n",
       "      <th>4</th>\n",
       "      <td>1998</td>\n",
       "      <td>Canada</td>\n",
       "      <td>Total, all violations [0]</td>\n",
       "      <td>Cleared by charge</td>\n",
       "      <td>705133.00</td>\n",
       "    </tr>\n",
       "  </tbody>\n",
       "</table>\n",
       "</div>"
      ],
      "text/plain": [
       "   REF_DATE     GEO                 Violations                   Statistics  \\\n",
       "0      1998  Canada  Total, all violations [0]             Actual incidents   \n",
       "1      1998  Canada  Total, all violations [0]  Rate per 100,000 population   \n",
       "2      1998  Canada  Total, all violations [0]    Percentage change in rate   \n",
       "3      1998  Canada  Total, all violations [0]                Total cleared   \n",
       "4      1998  Canada  Total, all violations [0]            Cleared by charge   \n",
       "\n",
       "        VALUE  \n",
       "0  2688540.00  \n",
       "1     8915.12  \n",
       "2         NaN  \n",
       "3  1073453.00  \n",
       "4   705133.00  "
      ]
     },
     "execution_count": 10,
     "metadata": {},
     "output_type": "execute_result"
    }
   ],
   "source": [
    "short_data = reported_crime_data.loc[:,['REF_DATE', 'GEO', 'Violations', 'Statistics', 'VALUE']]\n",
    "short_data.head()"
   ]
  },
  {
   "cell_type": "code",
   "execution_count": 20,
   "id": "459dc31a-a76c-400f-b6f8-3119ca518789",
   "metadata": {},
   "outputs": [
    {
     "data": {
      "text/plain": [
       "LoadJob<project=newsletter-analysis, location=northamerica-northeast2, id=bf4f4ff9-3b08-40ab-9dc0-cc69c46f0c12>"
      ]
     },
     "execution_count": 20,
     "metadata": {},
     "output_type": "execute_result"
    }
   ],
   "source": [
    "from google.cloud import bigquery\n",
    "client = bigquery.Client()\n",
    "job = client.load_table_from_dataframe(\n",
    "    short_data, \"newsletter-analysis.reported_crime_data.all_locations_and_violations\"\n",
    ")  # Make an API request.\n",
    "job.result() "
   ]
  }
 ],
 "metadata": {
  "environment": {
   "kernel": "python3",
   "name": "common-cpu.m100",
   "type": "gcloud",
   "uri": "gcr.io/deeplearning-platform-release/base-cpu:m100"
  },
  "kernelspec": {
   "display_name": "Python 3",
   "language": "python",
   "name": "python3"
  },
  "language_info": {
   "codemirror_mode": {
    "name": "ipython",
    "version": 3
   },
   "file_extension": ".py",
   "mimetype": "text/x-python",
   "name": "python",
   "nbconvert_exporter": "python",
   "pygments_lexer": "ipython3",
   "version": "3.7.12"
  }
 },
 "nbformat": 4,
 "nbformat_minor": 5
}
